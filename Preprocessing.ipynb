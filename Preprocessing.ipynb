{
 "cells": [
  {
   "cell_type": "code",
   "execution_count": 142,
   "metadata": {
    "pycharm": {
     "is_executing": false
    }
   },
   "outputs": [],
   "source": [
    "import numpy as np\n",
    "import pandas as pd\n",
    "import zipfile\n",
    "import csv\n",
    "import re\n",
    "import tensorflow as tf\n",
    "import pickle\n",
    "from pycontractions import Contractions"
   ]
  },
  {
   "cell_type": "code",
   "execution_count": null,
   "outputs": [],
   "source": [
    "import gzip\n",
    "import shutil\n",
    "with gzip.open('obj/GoogleNews-vectors-negative300.bin.gz', 'rb') as f_in:\n",
    "    with open('obj/GoogleNews-vectors-negative300.bin', 'wb') as f_out:\n",
    "        shutil.copyfileobj(f_in, f_out)"
   ],
   "metadata": {
    "collapsed": false,
    "pycharm": {
     "name": "#%%\n",
     "is_executing": true
    }
   }
  },
  {
   "cell_type": "code",
   "execution_count": 143,
   "metadata": {
    "pycharm": {
     "is_executing": false,
     "name": "#%%\n"
    }
   },
   "outputs": [
    {
     "data": {
      "text/plain": "      id  \\\n0  86426   \n1  90194   \n2  16820   \n3  62688   \n4  43605   \n\n                                                                                                                                                                                    tweet  \\\n0  @USER She should ask a few native Americans what their take on this is.                                                                                                                  \n1  @USER @USER Go home you’re drunk!!! @USER #MAGA #Trump2020 👊🇺🇸👊 URL                                                                                                                      \n2  Amazon is investigating Chinese employees who are selling internal data to third-party sellers looking for an edge in the competitive marketplace. URL #Amazon #MAGA #KAG #CHINA #TCOT   \n3  @USER Someone should'veTaken\" this piece of shit to a volcano. 😂\"                                                                                                                        \n4  @USER @USER Obama wanted liberals &amp; illegals to move into red states                                                                                                                 \n\n  subtask_a subtask_b subtask_c  \n0  OFF       UNT       NaN       \n1  OFF       TIN       IND       \n2  NOT       NaN       NaN       \n3  OFF       UNT       NaN       \n4  NOT       NaN       NaN       ",
      "text/html": "<div>\n<style scoped>\n    .dataframe tbody tr th:only-of-type {\n        vertical-align: middle;\n    }\n\n    .dataframe tbody tr th {\n        vertical-align: top;\n    }\n\n    .dataframe thead th {\n        text-align: right;\n    }\n</style>\n<table border=\"1\" class=\"dataframe\">\n  <thead>\n    <tr style=\"text-align: right;\">\n      <th></th>\n      <th>id</th>\n      <th>tweet</th>\n      <th>subtask_a</th>\n      <th>subtask_b</th>\n      <th>subtask_c</th>\n    </tr>\n  </thead>\n  <tbody>\n    <tr>\n      <th>0</th>\n      <td>86426</td>\n      <td>@USER She should ask a few native Americans what their take on this is.</td>\n      <td>OFF</td>\n      <td>UNT</td>\n      <td>NaN</td>\n    </tr>\n    <tr>\n      <th>1</th>\n      <td>90194</td>\n      <td>@USER @USER Go home you’re drunk!!! @USER #MAGA #Trump2020 👊🇺🇸👊 URL</td>\n      <td>OFF</td>\n      <td>TIN</td>\n      <td>IND</td>\n    </tr>\n    <tr>\n      <th>2</th>\n      <td>16820</td>\n      <td>Amazon is investigating Chinese employees who are selling internal data to third-party sellers looking for an edge in the competitive marketplace. URL #Amazon #MAGA #KAG #CHINA #TCOT</td>\n      <td>NOT</td>\n      <td>NaN</td>\n      <td>NaN</td>\n    </tr>\n    <tr>\n      <th>3</th>\n      <td>62688</td>\n      <td>@USER Someone should'veTaken\" this piece of shit to a volcano. 😂\"</td>\n      <td>OFF</td>\n      <td>UNT</td>\n      <td>NaN</td>\n    </tr>\n    <tr>\n      <th>4</th>\n      <td>43605</td>\n      <td>@USER @USER Obama wanted liberals &amp;amp; illegals to move into red states</td>\n      <td>NOT</td>\n      <td>NaN</td>\n      <td>NaN</td>\n    </tr>\n  </tbody>\n</table>\n</div>"
     },
     "metadata": {},
     "output_type": "execute_result",
     "execution_count": 143
    }
   ],
   "source": [
    "pd.set_option('display.max_colwidth', -1)\n",
    "df = pd.read_csv('data/olid-training-v1.0.tsv', sep='\\t')\n",
    "df.head()"
   ]
  },
  {
   "cell_type": "code",
   "execution_count": 144,
   "metadata": {
    "pycharm": {
     "is_executing": false,
     "name": "#%%\n"
    }
   },
   "outputs": [
    {
     "data": {
      "text/plain": "      id  \\\n0  86426   \n1  90194   \n2  16820   \n3  62688   \n4  43605   \n\n                                                                                                                                                                                    tweet  \n0  @USER She should ask a few native Americans what their take on this is.                                                                                                                 \n1  @USER @USER Go home you’re drunk!!! @USER #MAGA #Trump2020 👊🇺🇸👊 URL                                                                                                                     \n2  Amazon is investigating Chinese employees who are selling internal data to third-party sellers looking for an edge in the competitive marketplace. URL #Amazon #MAGA #KAG #CHINA #TCOT  \n3  @USER Someone should'veTaken\" this piece of shit to a volcano. 😂\"                                                                                                                       \n4  @USER @USER Obama wanted liberals &amp; illegals to move into red states                                                                                                                ",
      "text/html": "<div>\n<style scoped>\n    .dataframe tbody tr th:only-of-type {\n        vertical-align: middle;\n    }\n\n    .dataframe tbody tr th {\n        vertical-align: top;\n    }\n\n    .dataframe thead th {\n        text-align: right;\n    }\n</style>\n<table border=\"1\" class=\"dataframe\">\n  <thead>\n    <tr style=\"text-align: right;\">\n      <th></th>\n      <th>id</th>\n      <th>tweet</th>\n    </tr>\n  </thead>\n  <tbody>\n    <tr>\n      <th>0</th>\n      <td>86426</td>\n      <td>@USER She should ask a few native Americans what their take on this is.</td>\n    </tr>\n    <tr>\n      <th>1</th>\n      <td>90194</td>\n      <td>@USER @USER Go home you’re drunk!!! @USER #MAGA #Trump2020 👊🇺🇸👊 URL</td>\n    </tr>\n    <tr>\n      <th>2</th>\n      <td>16820</td>\n      <td>Amazon is investigating Chinese employees who are selling internal data to third-party sellers looking for an edge in the competitive marketplace. URL #Amazon #MAGA #KAG #CHINA #TCOT</td>\n    </tr>\n    <tr>\n      <th>3</th>\n      <td>62688</td>\n      <td>@USER Someone should'veTaken\" this piece of shit to a volcano. 😂\"</td>\n    </tr>\n    <tr>\n      <th>4</th>\n      <td>43605</td>\n      <td>@USER @USER Obama wanted liberals &amp;amp; illegals to move into red states</td>\n    </tr>\n  </tbody>\n</table>\n</div>"
     },
     "metadata": {},
     "output_type": "execute_result",
     "execution_count": 144
    }
   ],
   "source": [
    "X = df.drop(columns=['subtask_a', 'subtask_b','subtask_c'])\n",
    "y = df.drop(columns=['id', 'tweet'])\n",
    "X = df.filter(['id', 'tweet'])\n",
    "X.head()"
   ]
  },
  {
   "cell_type": "code",
   "execution_count": 145,
   "outputs": [],
   "source": [
    "def load_obj(name):\n",
    "    with open('obj/' + name + '.pkl', 'rb') as f:\n",
    "        return pickle.load(f)\n"
   ],
   "metadata": {
    "collapsed": false,
    "pycharm": {
     "name": "#%%\n",
     "is_executing": false
    }
   }
  },
  {
   "cell_type": "code",
   "execution_count": 146,
   "outputs": [
    {
     "name": "stdout",
     "text": [
      "{\"ain't\": 'is not', \"aren't\": 'are not', \"can't\": 'cannot', \"can't've\": 'cannot have', \"'cause\": 'because', \"could've\": 'could have', \"couldn't\": 'could not', \"couldn't've\": 'could not have', \"didn't\": 'did not', \"doesn't\": 'does not', \"don't\": 'do not', \"hadn't\": 'had not', \"hadn't've\": 'had not have', \"hasn't\": 'has not', \"haven't\": 'have not', \"he'd\": 'he would', \"he'd've\": 'he would have', \"he'll\": 'he will', \"he'll've\": 'he he will have', \"he's\": 'he is', \"how'd\": 'how did', \"how'd'y\": 'how do you', \"how'll\": 'how will', \"how's\": 'how is', \"I'd\": 'I would', \"I'd've\": 'I would have', \"I'll\": 'I will', \"I'll've\": 'I will have', \"I'm\": 'I am', \"I've\": 'I have', \"i'd\": 'i would', \"i'd've\": 'i would have', \"i'll\": 'i will', \"i'll've\": 'i will have', \"i'm\": 'i am', \"i've\": 'i have', \"isn't\": 'is not', \"it'd\": 'it would', \"it'd've\": 'it would have', \"it'll\": 'it will', \"it'll've\": 'it will have', \"it's\": 'it is', \"let's\": 'let us', \"ma'am\": 'madam', \"mayn't\": 'may not', \"might've\": 'might have', \"mightn't\": 'might not', \"mightn't've\": 'might not have', \"must've\": 'must have', \"mustn't\": 'must not', \"mustn't've\": 'must not have', \"needn't\": 'need not', \"needn't've\": 'need not have', \"o'clock\": 'of the clock', \"oughtn't\": 'ought not', \"oughtn't've\": 'ought not have', \"shan't\": 'shall not', \"sha'n't\": 'shall not', \"shan't've\": 'shall not have', \"she'd\": 'she would', \"she'd've\": 'she would have', \"she'll\": 'she will', \"she'll've\": 'she will have', \"she's\": 'she is', \"should've\": 'should have', \"shouldn't\": 'should not', \"shouldn't've\": 'should not have', \"so've\": 'so have', \"so's\": 'so as', \"this's\": 'this is', \"that'd\": 'that would', \"that'd've\": 'that would have', \"that's\": 'that is', \"there'd\": 'there would', \"there'd've\": 'there would have', \"there's\": 'there is', \"they'd\": 'they would', \"they'd've\": 'they would have', \"they'll\": 'they will', \"they'll've\": 'they will have', \"they're\": 'they are', \"they've\": 'they have', \"to've\": 'to have', \"wasn't\": 'was not', \"we'd\": 'we would', \"we'd've\": 'we would have', \"we'll\": 'we will', \"we'll've\": 'we will have', \"we're\": 'we are', \"we've\": 'we have', \"weren't\": 'were not', \"what'll\": 'what will', \"what'll've\": 'what will have', \"what're\": 'what are', \"what's\": 'what is', \"what've\": 'what have', \"when's\": 'when is', \"when've\": 'when have', \"where'd\": 'where did', \"where's\": 'where is', \"where've\": 'where have', \"who'll\": 'who will', \"who'll've\": 'who will have', \"who's\": 'who is', \"who've\": 'who have', \"why's\": 'why is', \"why've\": 'why have', \"will've\": 'will have', \"won't\": 'will not', \"won't've\": 'will not have', \"would've\": 'would have', \"wouldn't\": 'would not', \"wouldn't've\": 'would not have', \"y'all\": 'you all', \"y'all'd\": 'you all would', \"y'all'd've\": 'you all would have', \"y'all're\": 'you all are', \"y'all've\": 'you all have', \"you'd\": 'you would', \"you'd've\": 'you would have', \"you'll\": 'you will', \"you'll've\": 'you will have', \"you're\": 'you are', \"you've\": 'you have'}\n"
     ],
     "output_type": "stream"
    }
   ],
   "source": [
    "contraction_map = load_obj(\"contraction_map\")\n",
    "print(contraction_map)"
   ],
   "metadata": {
    "collapsed": false,
    "pycharm": {
     "name": "#%%\n",
     "is_executing": false
    }
   }
  },
  {
   "cell_type": "code",
   "execution_count": 150,
   "outputs": [
    {
     "name": "stdout",
     "text": [
      "Word2Vec model not found at GoogleNews-vectors-negative300.bin\n"
     ],
     "output_type": "stream"
    },
    {
     "traceback": [
      "An exception has occurred, use %tb to see the full traceback.\n",
      "\u001b[0;31mSystemExit\u001b[0m\u001b[0;31m:\u001b[0m 1\n"
     ],
     "ename": "SystemExit",
     "evalue": "1",
     "output_type": "error"
    },
    {
     "name": "stderr",
     "text": [
      "/usr/local/lib/python3.6/site-packages/IPython/core/interactiveshell.py:3275: UserWarning: To exit: use 'exit', 'quit', or Ctrl-D.\n",
      "  warn(\"To exit: use 'exit', 'quit', or Ctrl-D.\", stacklevel=1)\n"
     ],
     "output_type": "stream"
    }
   ],
   "source": [
    "# alternatively, check out pycontractions\n",
    "cont = Contractions('GoogleNews-vectors-negative300.bin')\n",
    "cont.load_models()"
   ],
   "metadata": {
    "collapsed": false,
    "pycharm": {
     "name": "#%%\n",
     "is_executing": false
    }
   }
  },
  {
   "cell_type": "code",
   "execution_count": 148,
   "outputs": [],
   "source": [
    "X['tweet'] = X['tweet'].apply(lambda x: cont.expand_texts(x, precise=True))"
   ],
   "metadata": {
    "collapsed": false,
    "pycharm": {
     "name": "#%%\n",
     "is_executing": false
    }
   }
  },
  {
   "cell_type": "code",
   "execution_count": 149,
   "outputs": [
    {
     "data": {
      "text/plain": "      id                                                        tweet\n0  86426  <generator object Contractions.expand_texts at 0x139728518>\n1  90194  <generator object Contractions.expand_texts at 0x139728570>\n2  16820  <generator object Contractions.expand_texts at 0x1397285c8>\n3  62688  <generator object Contractions.expand_texts at 0x139728620>\n4  43605  <generator object Contractions.expand_texts at 0x139728678>\n5  97670  <generator object Contractions.expand_texts at 0x1397286d0>\n6  77444  <generator object Contractions.expand_texts at 0x139728728>\n7  52415  <generator object Contractions.expand_texts at 0x139728780>\n8  45157  <generator object Contractions.expand_texts at 0x1397287d8>\n9  13384  <generator object Contractions.expand_texts at 0x139728830>",
      "text/html": "<div>\n<style scoped>\n    .dataframe tbody tr th:only-of-type {\n        vertical-align: middle;\n    }\n\n    .dataframe tbody tr th {\n        vertical-align: top;\n    }\n\n    .dataframe thead th {\n        text-align: right;\n    }\n</style>\n<table border=\"1\" class=\"dataframe\">\n  <thead>\n    <tr style=\"text-align: right;\">\n      <th></th>\n      <th>id</th>\n      <th>tweet</th>\n    </tr>\n  </thead>\n  <tbody>\n    <tr>\n      <th>0</th>\n      <td>86426</td>\n      <td>&lt;generator object Contractions.expand_texts at 0x139728518&gt;</td>\n    </tr>\n    <tr>\n      <th>1</th>\n      <td>90194</td>\n      <td>&lt;generator object Contractions.expand_texts at 0x139728570&gt;</td>\n    </tr>\n    <tr>\n      <th>2</th>\n      <td>16820</td>\n      <td>&lt;generator object Contractions.expand_texts at 0x1397285c8&gt;</td>\n    </tr>\n    <tr>\n      <th>3</th>\n      <td>62688</td>\n      <td>&lt;generator object Contractions.expand_texts at 0x139728620&gt;</td>\n    </tr>\n    <tr>\n      <th>4</th>\n      <td>43605</td>\n      <td>&lt;generator object Contractions.expand_texts at 0x139728678&gt;</td>\n    </tr>\n    <tr>\n      <th>5</th>\n      <td>97670</td>\n      <td>&lt;generator object Contractions.expand_texts at 0x1397286d0&gt;</td>\n    </tr>\n    <tr>\n      <th>6</th>\n      <td>77444</td>\n      <td>&lt;generator object Contractions.expand_texts at 0x139728728&gt;</td>\n    </tr>\n    <tr>\n      <th>7</th>\n      <td>52415</td>\n      <td>&lt;generator object Contractions.expand_texts at 0x139728780&gt;</td>\n    </tr>\n    <tr>\n      <th>8</th>\n      <td>45157</td>\n      <td>&lt;generator object Contractions.expand_texts at 0x1397287d8&gt;</td>\n    </tr>\n    <tr>\n      <th>9</th>\n      <td>13384</td>\n      <td>&lt;generator object Contractions.expand_texts at 0x139728830&gt;</td>\n    </tr>\n  </tbody>\n</table>\n</div>"
     },
     "metadata": {},
     "output_type": "execute_result",
     "execution_count": 149
    }
   ],
   "source": [
    "X.head(10)"
   ],
   "metadata": {
    "collapsed": false,
    "pycharm": {
     "name": "#%%\n",
     "is_executing": false
    }
   }
  },
  {
   "cell_type": "code",
   "execution_count": null,
   "outputs": [],
   "source": [
    "def expand_contractions(sentence, contraction_mapping):\n",
    "    \n",
    "    contractions_pattern = re.compile('({})'.format('|'.join(contraction_mapping.keys())), \n",
    "                                      flags=re.IGNORECASE|re.DOTALL)\n",
    "    def expand_match(contraction):\n",
    "        match = contraction.group(0)\n",
    "        first_char = match[0]\n",
    "        expanded_contraction = contraction_mapping.get(match)\\\n",
    "                                if contraction_mapping.get(match)\\\n",
    "                                else contraction_mapping.get(match.lower())                       \n",
    "        expanded_contraction = first_char+expanded_contraction[1:]\n",
    "        return expanded_contraction\n",
    "        \n",
    "    expanded_sentence = contractions_pattern.sub(expand_match, sentence)\n",
    "    return expanded_sentence\n",
    "\n"
   ],
   "metadata": {
    "collapsed": false,
    "pycharm": {
     "name": "#%%\n"
    }
   }
  },
  {
   "cell_type": "code",
   "execution_count": 139,
   "outputs": [],
   "source": [
    "X['tweet'] = X['tweet'].apply(lambda x: ' '.join(re.sub(\"@USER\",\" \",x).split()))\n",
    "X['tweet'] = X['tweet'].apply(lambda x: expand_contractions(x, contraction_map))"
   ],
   "metadata": {
    "collapsed": false,
    "pycharm": {
     "name": "#%%\n",
     "is_executing": false
    }
   }
  },
  {
   "cell_type": "code",
   "execution_count": 140,
   "outputs": [
    {
     "data": {
      "text/plain": "      id  \\\n0  86426   \n1  90194   \n2  16820   \n3  62688   \n4  43605   \n5  97670   \n6  77444   \n7  52415   \n8  45157   \n9  13384   \n\n                                                                                                                                                                                    tweet  \n0  She should ask a few native Americans what their take on this is.                                                                                                                       \n1  Go home you’re drunk!!! #MAGA #Trump2020 👊🇺🇸👊 URL                                                                                                                                       \n2  Amazon is investigating Chinese employees who are selling internal data to third-party sellers looking for an edge in the competitive marketplace. URL #Amazon #MAGA #KAG #CHINA #TCOT  \n3  Someone should haveTaken\" this piece of shit to a volcano. 😂\"                                                                                                                           \n4  Obama wanted liberals &amp; illegals to move into red states                                                                                                                            \n5  Liberals are all Kookoo !!!                                                                                                                                                             \n6  Oh noes! Tough shit.                                                                                                                                                                    \n7  was literally just talking about this lol all mass shootings like that have been set ups. it’s propaganda used to divide us on major issues like gun control and terrorism              \n8  Buy more icecream!!!                                                                                                                                                                    \n9  Canada doesn’t need another CUCK! We already have enough #LooneyLeft #Liberals f**king up our great country! #Qproofs #TrudeauMustGo                                                    ",
      "text/html": "<div>\n<style scoped>\n    .dataframe tbody tr th:only-of-type {\n        vertical-align: middle;\n    }\n\n    .dataframe tbody tr th {\n        vertical-align: top;\n    }\n\n    .dataframe thead th {\n        text-align: right;\n    }\n</style>\n<table border=\"1\" class=\"dataframe\">\n  <thead>\n    <tr style=\"text-align: right;\">\n      <th></th>\n      <th>id</th>\n      <th>tweet</th>\n    </tr>\n  </thead>\n  <tbody>\n    <tr>\n      <th>0</th>\n      <td>86426</td>\n      <td>She should ask a few native Americans what their take on this is.</td>\n    </tr>\n    <tr>\n      <th>1</th>\n      <td>90194</td>\n      <td>Go home you’re drunk!!! #MAGA #Trump2020 👊🇺🇸👊 URL</td>\n    </tr>\n    <tr>\n      <th>2</th>\n      <td>16820</td>\n      <td>Amazon is investigating Chinese employees who are selling internal data to third-party sellers looking for an edge in the competitive marketplace. URL #Amazon #MAGA #KAG #CHINA #TCOT</td>\n    </tr>\n    <tr>\n      <th>3</th>\n      <td>62688</td>\n      <td>Someone should haveTaken\" this piece of shit to a volcano. 😂\"</td>\n    </tr>\n    <tr>\n      <th>4</th>\n      <td>43605</td>\n      <td>Obama wanted liberals &amp;amp; illegals to move into red states</td>\n    </tr>\n    <tr>\n      <th>5</th>\n      <td>97670</td>\n      <td>Liberals are all Kookoo !!!</td>\n    </tr>\n    <tr>\n      <th>6</th>\n      <td>77444</td>\n      <td>Oh noes! Tough shit.</td>\n    </tr>\n    <tr>\n      <th>7</th>\n      <td>52415</td>\n      <td>was literally just talking about this lol all mass shootings like that have been set ups. it’s propaganda used to divide us on major issues like gun control and terrorism</td>\n    </tr>\n    <tr>\n      <th>8</th>\n      <td>45157</td>\n      <td>Buy more icecream!!!</td>\n    </tr>\n    <tr>\n      <th>9</th>\n      <td>13384</td>\n      <td>Canada doesn’t need another CUCK! We already have enough #LooneyLeft #Liberals f**king up our great country! #Qproofs #TrudeauMustGo</td>\n    </tr>\n  </tbody>\n</table>\n</div>"
     },
     "metadata": {},
     "output_type": "execute_result",
     "execution_count": 140
    }
   ],
   "source": [
    "X.head(10)"
   ],
   "metadata": {
    "collapsed": false,
    "pycharm": {
     "name": "#%%\n",
     "is_executing": false
    }
   }
  },
  {
   "cell_type": "code",
   "execution_count": 123,
   "metadata": {
    "pycharm": {
     "is_executing": false,
     "name": "#%%\n"
    }
   },
   "outputs": [],
   "source": [
    "X['tweet'] = X['tweet'].apply(lambda x: x.lower())\n",
    "X['tweet'] = X['tweet'].apply(lambda x: ' '.join(re.sub(\"(@[A-Za-z0-9]+)|#|url|&amp\",\" \",x).split()))\n",
    "X['tweet'] = X['tweet'].apply(lambda x: ' '.join(re.sub(\"[?.,!;]\",\" [SEP]\", x).split()))\n",
    "X['tweet'] = X['tweet'].apply(lambda x: ' '.join(re.sub(\"([^0-9A-Za-z \\[\\]\\t])|(\\w+:\\/\\/\\S+)\",\" \",x).split()))\n",
    "X['tweet'] = X['tweet'].apply(lambda x: '[CLS] {} [SEP]'.format(x))\n"
   ]
  },
  {
   "cell_type": "code",
   "execution_count": 124,
   "metadata": {
    "pycharm": {
     "is_executing": false,
     "name": "#%%\n"
    }
   },
   "outputs": [
    {
     "data": {
      "text/plain": "      id  \\\n0  86426   \n1  90194   \n2  16820   \n3  62688   \n4  43605   \n\n                                                                                                                                                                                            tweet  \n0  [CLS] she should ask a few native americans what their take on this is [SEP] [SEP]                                                                                                              \n1  [CLS] go home you re drunk [SEP] [SEP] [SEP] maga trump2020 [SEP]                                                                                                                               \n2  [CLS] amazon is investigating chinese employees who are selling internal data to third party sellers looking for an edge in the competitive marketplace [SEP] amazon maga kag china tcot [SEP]  \n3  [CLS] someone should havetaken this piece of shit to a volcano [SEP] [SEP]                                                                                                                      \n4  [CLS] obama wanted liberals [SEP] illegals to move into red states [SEP]                                                                                                                        ",
      "text/html": "<div>\n<style scoped>\n    .dataframe tbody tr th:only-of-type {\n        vertical-align: middle;\n    }\n\n    .dataframe tbody tr th {\n        vertical-align: top;\n    }\n\n    .dataframe thead th {\n        text-align: right;\n    }\n</style>\n<table border=\"1\" class=\"dataframe\">\n  <thead>\n    <tr style=\"text-align: right;\">\n      <th></th>\n      <th>id</th>\n      <th>tweet</th>\n    </tr>\n  </thead>\n  <tbody>\n    <tr>\n      <th>0</th>\n      <td>86426</td>\n      <td>[CLS] she should ask a few native americans what their take on this is [SEP] [SEP]</td>\n    </tr>\n    <tr>\n      <th>1</th>\n      <td>90194</td>\n      <td>[CLS] go home you re drunk [SEP] [SEP] [SEP] maga trump2020 [SEP]</td>\n    </tr>\n    <tr>\n      <th>2</th>\n      <td>16820</td>\n      <td>[CLS] amazon is investigating chinese employees who are selling internal data to third party sellers looking for an edge in the competitive marketplace [SEP] amazon maga kag china tcot [SEP]</td>\n    </tr>\n    <tr>\n      <th>3</th>\n      <td>62688</td>\n      <td>[CLS] someone should havetaken this piece of shit to a volcano [SEP] [SEP]</td>\n    </tr>\n    <tr>\n      <th>4</th>\n      <td>43605</td>\n      <td>[CLS] obama wanted liberals [SEP] illegals to move into red states [SEP]</td>\n    </tr>\n  </tbody>\n</table>\n</div>"
     },
     "metadata": {},
     "output_type": "execute_result",
     "execution_count": 124
    }
   ],
   "source": [
    "X.head()\n",
    "\n",
    "\n"
   ]
  },
  {
   "cell_type": "code",
   "execution_count": 125,
   "outputs": [
    {
     "data": {
      "text/plain": "      id  \\\n0  86426   \n1  90194   \n2  16820   \n3  62688   \n4  43605   \n5  97670   \n6  77444   \n7  52415   \n8  45157   \n9  13384   \n\n                                                                                                                                                                                            tweet  \n0  [CLS] she should ask a few native americans what their take on this is [SEP] [SEP]                                                                                                              \n1  [CLS] go home you re drunk [SEP] [SEP] [SEP] maga trump2020 [SEP]                                                                                                                               \n2  [CLS] amazon is investigating chinese employees who are selling internal data to third party sellers looking for an edge in the competitive marketplace [SEP] amazon maga kag china tcot [SEP]  \n3  [CLS] someone should havetaken this piece of shit to a volcano [SEP] [SEP]                                                                                                                      \n4  [CLS] obama wanted liberals [SEP] illegals to move into red states [SEP]                                                                                                                        \n5  [CLS] liberals are all kookoo [SEP] [SEP] [SEP] [SEP]                                                                                                                                           \n6  [CLS] oh noes [SEP] tough shit [SEP] [SEP]                                                                                                                                                      \n7  [CLS] was literally just talking about this lol all mass shootings like that have been set ups [SEP] it s propaganda used to divide us on major issues like gun control and terrorism [SEP]     \n8  [CLS] buy more icecream [SEP] [SEP] [SEP] [SEP]                                                                                                                                                 \n9  [CLS] canada doesn t need another cuck [SEP] we already have enough looneyleft liberals f king up our great country [SEP] qproofs trudeaumustgo [SEP]                                           ",
      "text/html": "<div>\n<style scoped>\n    .dataframe tbody tr th:only-of-type {\n        vertical-align: middle;\n    }\n\n    .dataframe tbody tr th {\n        vertical-align: top;\n    }\n\n    .dataframe thead th {\n        text-align: right;\n    }\n</style>\n<table border=\"1\" class=\"dataframe\">\n  <thead>\n    <tr style=\"text-align: right;\">\n      <th></th>\n      <th>id</th>\n      <th>tweet</th>\n    </tr>\n  </thead>\n  <tbody>\n    <tr>\n      <th>0</th>\n      <td>86426</td>\n      <td>[CLS] she should ask a few native americans what their take on this is [SEP] [SEP]</td>\n    </tr>\n    <tr>\n      <th>1</th>\n      <td>90194</td>\n      <td>[CLS] go home you re drunk [SEP] [SEP] [SEP] maga trump2020 [SEP]</td>\n    </tr>\n    <tr>\n      <th>2</th>\n      <td>16820</td>\n      <td>[CLS] amazon is investigating chinese employees who are selling internal data to third party sellers looking for an edge in the competitive marketplace [SEP] amazon maga kag china tcot [SEP]</td>\n    </tr>\n    <tr>\n      <th>3</th>\n      <td>62688</td>\n      <td>[CLS] someone should havetaken this piece of shit to a volcano [SEP] [SEP]</td>\n    </tr>\n    <tr>\n      <th>4</th>\n      <td>43605</td>\n      <td>[CLS] obama wanted liberals [SEP] illegals to move into red states [SEP]</td>\n    </tr>\n    <tr>\n      <th>5</th>\n      <td>97670</td>\n      <td>[CLS] liberals are all kookoo [SEP] [SEP] [SEP] [SEP]</td>\n    </tr>\n    <tr>\n      <th>6</th>\n      <td>77444</td>\n      <td>[CLS] oh noes [SEP] tough shit [SEP] [SEP]</td>\n    </tr>\n    <tr>\n      <th>7</th>\n      <td>52415</td>\n      <td>[CLS] was literally just talking about this lol all mass shootings like that have been set ups [SEP] it s propaganda used to divide us on major issues like gun control and terrorism [SEP]</td>\n    </tr>\n    <tr>\n      <th>8</th>\n      <td>45157</td>\n      <td>[CLS] buy more icecream [SEP] [SEP] [SEP] [SEP]</td>\n    </tr>\n    <tr>\n      <th>9</th>\n      <td>13384</td>\n      <td>[CLS] canada doesn t need another cuck [SEP] we already have enough looneyleft liberals f king up our great country [SEP] qproofs trudeaumustgo [SEP]</td>\n    </tr>\n  </tbody>\n</table>\n</div>"
     },
     "metadata": {},
     "output_type": "execute_result",
     "execution_count": 125
    }
   ],
   "source": [
    "X.head(10)"
   ],
   "metadata": {
    "collapsed": false,
    "pycharm": {
     "name": "#%%\n",
     "is_executing": false
    }
   }
  },
  {
   "cell_type": "code",
   "execution_count": null,
   "outputs": [],
   "source": [
    "\n"
   ],
   "metadata": {
    "collapsed": false,
    "pycharm": {
     "name": "#%%\n"
    }
   }
  }
 ],
 "metadata": {
  "kernelspec": {
   "name": "python3",
   "language": "python",
   "display_name": "Python 3"
  },
  "language_info": {
   "codemirror_mode": {
    "name": "ipython",
    "version": 3
   },
   "file_extension": ".py",
   "mimetype": "text/x-python",
   "name": "python",
   "nbconvert_exporter": "python",
   "pygments_lexer": "ipython3",
   "version": "3.6.5"
  },
  "pycharm": {
   "stem_cell": {
    "cell_type": "raw",
    "source": [],
    "metadata": {
     "collapsed": false
    }
   }
  }
 },
 "nbformat": 4,
 "nbformat_minor": 1
}